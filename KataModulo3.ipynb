{
 "cells": [
  {
   "cell_type": "code",
   "execution_count": 1,
   "metadata": {},
   "outputs": [],
   "source": [
    "## Kata 3 Curso de Introducción a Python"
   ]
  },
  {
   "cell_type": "markdown",
   "metadata": {},
   "source": [
    "## Kata 3 Curso de Introducción a Python"
   ]
  },
  {
   "cell_type": "markdown",
   "metadata": {},
   "source": [
    "Para este ejercicio, escribirás una lógica condicional que imprima una advertencia si un asteroide se acerca a la Tierra demasiado rápido. La velocidad del asteroide varía dependiendo de lo cerca que esté del sol, y cualquier velocidad superior a 25 kilómetros por segundo (km/s) merece una advertencia.\n",
    "\n",
    "Un asteroide se acerca, y viaja a una velocidad de 49 km/s."
   ]
  },
  {
   "cell_type": "code",
   "execution_count": 4,
   "metadata": {},
   "outputs": [
    {
     "name": "stdout",
     "output_type": "stream",
     "text": [
      "ADVERTENCIA: Un asteriode se acerca demasiado rápido\n"
     ]
    }
   ],
   "source": [
    "velAsteroide = 49\n",
    "VelAdvertencia = 25\n",
    "if velAsteroide > VelAdvertencia:\n",
    "    print(\"ADVERTENCIA: Un asteriode se acerca demasiado rápido\")\n",
    "else:\n",
    "    print(\"No es velocidad suficiente para ser un peligro\")"
   ]
  },
  {
   "cell_type": "markdown",
   "metadata": {},
   "source": [
    "Si un asteroide entra en la atmósfera de la Tierra a una velocidad mayor o igual a 20 km/s, a veces produce un rayo de luz que se puede ver desde la Tierra. Escribe la lógica condicional que usa declaraciones if, else, y elif para alertar a las personas de todo el mundo que deben buscar un asteroide en el cielo. ¡Hay uno que se dirige a la tierra ahora a una velocidad de 19 km/s!"
   ]
  },
  {
   "cell_type": "code",
   "execution_count": 62,
   "metadata": {},
   "outputs": [
    {
     "name": "stdout",
     "output_type": "stream",
     "text": [
      "Un asteriode está produciendo un rayo de luz\n"
     ]
    }
   ],
   "source": [
    "velAsteroide = 50\n",
    "velRayoLuz = 20\n",
    "if velAsteroide > velRayoLuz:\n",
    "    print(\"Un asteriode está produciendo un rayo de luz\")\n",
    "elif velAsteroide == velRayoLuz:\n",
    "    print(\"Un asteriode está produciendo un rayo de luz\")\n",
    "else:\n",
    "    print(\"El asteroide que entro a la tierra no produce ninguna luz\")"
   ]
  },
  {
   "cell_type": "markdown",
   "metadata": {},
   "source": [
    "En este ejercicio, aprenderás información más matizada sobre cuándo los asteroides representan un peligro para la Tierra, y utilizarás esa información para mejorar nuestro sistema de advertencia. Aquí está la nueva información que necesitas saber:\n",
    "\n",
    "Los asteroides de menos de 25 metros en su dimensión más grande probablemente se quemarán a medida que entren en la atmósfera de la Tierra.\n",
    "\n",
    "Si una pieza de un asteroide que es más grande que 25 metros pero más pequeña que 1000 metros golpeara la Tierra, causaría mucho daño.\n",
    "También discutimos en el ejercicio anterior que:\n",
    "\n",
    "La velocidad del asteroide varía en función de lo cerca que esté del sol, y cualquier velocidad superior a 25 kilómetros por segundo (km/s) merece una advertencia.\n",
    "Si un asteroide entra en la atmósfera de la Tierra a una velocidad mayor o igual a 20 km/s, a veces produce un rayo de luz que se puede ver desde la Tierra"
   ]
  },
  {
   "cell_type": "code",
   "execution_count": 59,
   "metadata": {},
   "outputs": [
    {
     "name": "stdout",
     "output_type": "stream",
     "text": [
      "Se acerca un asteriode que probablemete haga mucho daño\n",
      "ADVERTENCIA: Un asteriode se acerca demasiado rápido\n"
     ]
    }
   ],
   "source": [
    "velAsteroide = 25\n",
    "VelAdvertencia = 25\n",
    "velRayoLuz = 20\n",
    "tamAsteriode = 100\n",
    "\n",
    "if velAsteroide < 25:\n",
    "    print(\"Se acerca un asteriode aunque probablemente se queme a medida que entre a la atmosfera\")\n",
    "elif velAsteroide > 25 and (tamAsteriode > 25 or tamAsteriode < 1000):\n",
    "    print(\"Se acerca un asteriode que probablemete haga mucho daño\")\n",
    "    if velAsteroide > VelAdvertencia:\n",
    "        print(\"ADVERTENCIA: Un asteriode se acerca demasiado rápido\")\n",
    "elif velAsteroide >= velRayoLuz:\n",
    "    print(\"Puede que se produzca un rayo de luz producto del asteriode\")\n",
    "else:\n",
    "    print(\"Nada que ver por ahora\")"
   ]
  }
 ],
 "metadata": {
  "interpreter": {
   "hash": "c64f4b7fe6a05d2512c6c4ee6233b569a723706bb85379612d692b50fb16c2ff"
  },
  "kernelspec": {
   "display_name": "Python 3.10.2 64-bit",
   "language": "python",
   "name": "python3"
  },
  "language_info": {
   "codemirror_mode": {
    "name": "ipython",
    "version": 3
   },
   "file_extension": ".py",
   "mimetype": "text/x-python",
   "name": "python",
   "nbconvert_exporter": "python",
   "pygments_lexer": "ipython3",
   "version": "3.10.2"
  },
  "orig_nbformat": 4
 },
 "nbformat": 4,
 "nbformat_minor": 2
}
